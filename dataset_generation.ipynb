{
 "cells": [
  {
   "cell_type": "code",
   "execution_count": 17,
   "metadata": {},
   "outputs": [],
   "source": [
    "from torch.utils.data import Dataset\n",
    "from torchvision import transforms\n",
    "from PIL import Image\n",
    "\n",
    "class MedicalImages(Dataset):\n",
    "    def __init__(self, arch, split = 0, train = True):\n",
    "        \"\"\"\n",
    "        Args:\n",
    "            split (int): cross validation split\n",
    "            train (bool): train flag\n",
    "            arch (str): image recognition architecture -- dictates input sizes    \n",
    "        \"\"\"\n",
    "        if train:\n",
    "            self.file_name = 'data/train_split_{}.txt'.format(split)\n",
    "        else:\n",
    "            self.file_name = 'data/val_split_{}.txt'.format(split)\n",
    "        \n",
    "        if 'resnet' in arch or 'vgg' in arch: \n",
    "            self.input_size = 224\n",
    "            self.input_mean = [0.485, 0.456, 0.406]\n",
    "            self.input_std = [0.229, 0.224, 0.225]\n",
    "        \n",
    "        elif arch == 'BNInception':\n",
    "            self.input_size = 224\n",
    "            self.input_mean = [104, 117, 128]\n",
    "            self.input_std = [1]\n",
    "            \n",
    "        elif 'inception' in base_model:\n",
    "            self.input_size = 299\n",
    "            self.input_mean = [0.5]\n",
    "            self.input_std = [0.5]\n",
    "        \n",
    "        else:\n",
    "            raise ValueError(\"{} architecture is not recognized\".format(arch))\n",
    "        \n",
    "        self.transforms = transforms.compose([\n",
    "                                transforms.Resize(self.input_size),\n",
    "                                transforms.Grayscale(3),\n",
    "                                transforms.ToTensor(),\n",
    "                                transforms.Normalize(self.input_mean, self.input_std)\n",
    "                                ])\n",
    "        \n",
    "        with open(self.file_name) as fh:\n",
    "            self.path_label_pairs = fh.readlines()\n",
    "            \n",
    "    def __getitem_(self, i):\n",
    "        img_path, label = self.path_label_pairs[i].strip().split(' ')   \n",
    "        \n",
    "        img = Image.open(img_path)\n",
    "        \n",
    "        img = self.transforms(img)\n",
    "        \n",
    "        return (img, label)\n",
    "    \n",
    "    def __len__(self):\n",
    "        return (len(self.path_label_pairs))\n",
    "    "
   ]
  },
  {
   "cell_type": "code",
   "execution_count": 2,
   "metadata": {},
   "outputs": [],
   "source": []
  },
  {
   "cell_type": "code",
   "execution_count": 7,
   "metadata": {},
   "outputs": [],
   "source": [
    "with open(file_name) as fh:\n",
    "    pairs = fh.readlines()"
   ]
  },
  {
   "cell_type": "code",
   "execution_count": 8,
   "metadata": {},
   "outputs": [],
   "source": [
    "img_path, label = pairs[0].strip().split(' ')"
   ]
  },
  {
   "cell_type": "code",
   "execution_count": 9,
   "metadata": {},
   "outputs": [
    {
     "data": {
      "text/plain": [
       "'data/sah/sah_fixed27.png'"
      ]
     },
     "execution_count": 9,
     "metadata": {},
     "output_type": "execute_result"
    }
   ],
   "source": [
    "img_path"
   ]
  },
  {
   "cell_type": "code",
   "execution_count": 18,
   "metadata": {},
   "outputs": [],
   "source": [
    "import pretrainedmodels"
   ]
  },
  {
   "cell_type": "code",
   "execution_count": 21,
   "metadata": {},
   "outputs": [
    {
     "name": "stderr",
     "output_type": "stream",
     "text": [
      "Downloading: \"http://data.lip6.fr/cadene/pretrainedmodels/bn_inception-239d2248.pth\" to /home/sergi/.torch/models/bn_inception-239d2248.pth\n",
      "100%|██████████| 90579976/90579976 [03:42<00:00, 407479.78it/s] \n"
     ]
    }
   ],
   "source": [
    "model_name = 'bninception'\n",
    "model = pretrainedmodels.__dict__[model_name](num_classes=1000, pretrained='imagenet')\n"
   ]
  },
  {
   "cell_type": "code",
   "execution_count": 23,
   "metadata": {},
   "outputs": [
    {
     "data": {
      "text/plain": [
       "1024"
      ]
     },
     "execution_count": 23,
     "metadata": {},
     "output_type": "execute_result"
    }
   ],
   "source": [
    "in_features = model.last_linear.in_features\n",
    "model.last_linear = nn.Linear(in_features, 2)"
   ]
  },
  {
   "cell_type": "code",
   "execution_count": 24,
   "metadata": {},
   "outputs": [],
   "source": [
    "torch.save(model)"
   ]
  },
  {
   "cell_type": "code",
   "execution_count": null,
   "metadata": {},
   "outputs": [],
   "source": [
    "torch.nn.CrossEntropyLoss()"
   ]
  }
 ],
 "metadata": {
  "kernelspec": {
   "display_name": "Python 3",
   "language": "python",
   "name": "python3"
  },
  "language_info": {
   "codemirror_mode": {
    "name": "ipython",
    "version": 3
   },
   "file_extension": ".py",
   "mimetype": "text/x-python",
   "name": "python",
   "nbconvert_exporter": "python",
   "pygments_lexer": "ipython3",
   "version": "3.5.2"
  }
 },
 "nbformat": 4,
 "nbformat_minor": 2
}
