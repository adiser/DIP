{
 "cells": [
  {
   "cell_type": "code",
   "execution_count": 39,
   "metadata": {},
   "outputs": [],
   "source": [
    "import pandas as pd\n"
   ]
  },
  {
   "cell_type": "code",
   "execution_count": 35,
   "metadata": {},
   "outputs": [],
   "source": [
    "contrast = pd.read_csv('contrast_0.csv', index_col = 'Unnamed: 0')\n",
    "normal = pd.read_csv('normal_0.csv', index_col = 'Unnamed: 0')\n",
    "blur = pd.read_csv('blur_0.csv', index_col = 'Unnamed: 0')"
   ]
  },
  {
   "cell_type": "code",
   "execution_count": 36,
   "metadata": {},
   "outputs": [],
   "source": [
    "final = contrast.copy()"
   ]
  },
  {
   "cell_type": "code",
   "execution_count": 37,
   "metadata": {},
   "outputs": [],
   "source": [
    "final['p_sah'] = contrast['p_sah'] + normal['p_sah'] + blur['p_sah']\n",
    "final['p_sah'] /= 3\n",
    "final['p_sdh'] = contrast['p_sdh'] + normal['p_sdh'] + blur['p_sdh']\n",
    "final['p_sdh'] /= 3"
   ]
  },
  {
   "cell_type": "code",
   "execution_count": 60,
   "metadata": {},
   "outputs": [],
   "source": [
    "def myfunc(x):\n",
    "    p_sah = x['p_sah']\n",
    "    p_sdh = x['p_sdh']\n",
    "    preds = []\n",
    "    for i in range(len(p_sah)):\n",
    "        class_1_score = p_sah.iloc[i]\n",
    "        class_2_score = p_sdh.iloc[i]\n",
    "        \n",
    "        if class_1_score > class_2_score:\n",
    "            preds.append(0)\n",
    "        else:\n",
    "            preds.append(1)\n",
    "            \n",
    "    return preds\n",
    "\n",
    "\n",
    "final_pred = myfunc(final)\n",
    "contrast_pred = myfunc(contrast)\n",
    "normal_pred = myfunc(normal)\n",
    "blur_pred = myfunc(blur)"
   ]
  },
  {
   "cell_type": "code",
   "execution_count": 61,
   "metadata": {},
   "outputs": [],
   "source": [
    "y_true = final['targets']"
   ]
  },
  {
   "cell_type": "code",
   "execution_count": 68,
   "metadata": {},
   "outputs": [
    {
     "name": "stdout",
     "output_type": "stream",
     "text": [
      "contrast pred 0.9516129032258065\n",
      "normal pred 0.9516129032258065\n",
      "blur pred 0.9838709677419355\n",
      "final pred 0.967741935483871\n"
     ]
    }
   ],
   "source": [
    "from sklearn.metrics import accuracy_score, classification_report\n",
    "\n",
    "print(\"contrast pred\", accuracy_score(contrast_pred, y_true))\n",
    "print(\"normal pred\", accuracy_score(normal_pred, y_true))\n",
    "print(\"blur pred\", accuracy_score(blur_pred, y_true))\n",
    "print(\"final pred\", accuracy_score(final_pred, y_true))"
   ]
  },
  {
   "cell_type": "code",
   "execution_count": 72,
   "metadata": {},
   "outputs": [
    {
     "name": "stdout",
     "output_type": "stream",
     "text": [
      "             precision    recall  f1-score   support\n",
      "\n",
      "          0       0.94      1.00      0.97        31\n",
      "          1       1.00      0.94      0.97        31\n",
      "\n",
      "avg / total       0.97      0.97      0.97        62\n",
      "\n"
     ]
    }
   ],
   "source": [
    "print(classification_report(y_true, final_pred))"
   ]
  },
  {
   "cell_type": "code",
   "execution_count": null,
   "metadata": {},
   "outputs": [],
   "source": []
  }
 ],
 "metadata": {
  "kernelspec": {
   "display_name": "Python 3",
   "language": "python",
   "name": "python3"
  },
  "language_info": {
   "codemirror_mode": {
    "name": "ipython",
    "version": 3
   },
   "file_extension": ".py",
   "mimetype": "text/x-python",
   "name": "python",
   "nbconvert_exporter": "python",
   "pygments_lexer": "ipython3",
   "version": "3.5.2"
  }
 },
 "nbformat": 4,
 "nbformat_minor": 2
}
